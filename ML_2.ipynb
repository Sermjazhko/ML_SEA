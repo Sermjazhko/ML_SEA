{
 "cells": [
  {
   "cell_type": "code",
   "execution_count": 1,
   "metadata": {},
   "outputs": [],
   "source": [
    "import numpy as np\n",
    "import matplotlib.pyplot as plt\n",
    "%matplotlib inline\n",
    "   # Говорим jupyter'у, чтобы весь графический вывод был в браузере, а не в отдельном окне\n",
    "import pandas as pd             # Таблицы и временные ряды (dataframe, series)\n",
    "import seaborn as sns           # Еще больше красивой графики для визуализации данных\n",
    "import sklearn                  # Алгоритмы машинного обучения\n",
    "\n"
   ]
  },
  {
   "cell_type": "markdown",
   "metadata": {},
   "source": [
    "# 1. Чтение и подготовка данных\n"
   ]
  },
  {
   "cell_type": "code",
   "execution_count": 2,
   "metadata": {},
   "outputs": [],
   "source": [
    "url = \"https://raw.githubusercontent.com/Sermjazhko/ML_SEA/master/netflix-rotten-tomatoes-metacritic-imdb.csv\"\n",
    "data = pd.read_csv(url)\n"
   ]
  },
  {
   "cell_type": "markdown",
   "metadata": {},
   "source": [
    "Убираем ненужные символы в данных и ненужные столбцы. Добавляем столбец, который определяет кассовые сборы. "
   ]
  },
  {
   "cell_type": "code",
   "execution_count": 3,
   "metadata": {},
   "outputs": [],
   "source": [
    "data[\"Boxoffice\"] = data[\"Boxoffice\"].apply(lambda l: float(str(l).replace(\",\", \"\").replace(\"$\", \"\")))\n",
    "data.drop(['Netflix Link', 'IMDb Link', 'Summary', 'Image', 'Poster', 'TMDb Trailer', 'Trailer Site'], axis=1, inplace = True)\n",
    "data[\"boolBoxoffice\"] = np.where(data[\"Boxoffice\"] >= 45000000, 1, 0) "
   ]
  },
  {
   "cell_type": "code",
   "execution_count": 4,
   "metadata": {},
   "outputs": [
    {
     "data": {
      "text/plain": [
       "(15480, 23)"
      ]
     },
     "execution_count": 4,
     "metadata": {},
     "output_type": "execute_result"
    }
   ],
   "source": [
    "data.shape"
   ]
  },
  {
   "cell_type": "markdown",
   "metadata": {},
   "source": [
    "Преобразуем к категориальным признакам"
   ]
  },
  {
   "cell_type": "code",
   "execution_count": 5,
   "metadata": {},
   "outputs": [],
   "source": [
    "data['Runtime'] = data['Runtime'].astype('category')\n",
    "data['Series or Movie'] = data['Series or Movie'].astype('category')"
   ]
  },
  {
   "cell_type": "code",
   "execution_count": 6,
   "metadata": {},
   "outputs": [
    {
     "data": {
      "text/plain": [
       "Title                        0\n",
       "Genre                     1710\n",
       "Tags                        67\n",
       "Languages                 1935\n",
       "Series or Movie              0\n",
       "Hidden Gem Score          2101\n",
       "Country Availability        19\n",
       "Runtime                      1\n",
       "Director                  4708\n",
       "Writer                    4330\n",
       "Actors                    1925\n",
       "View Rating               7024\n",
       "IMDb Score                2099\n",
       "Rotten Tomatoes Score     9098\n",
       "Metacritic Score         11144\n",
       "Awards Received           9405\n",
       "Awards Nominated For      7819\n",
       "Boxoffice                11473\n",
       "Release Date              2107\n",
       "Netflix Release Date         0\n",
       "Production House         10331\n",
       "IMDb Votes                2101\n",
       "boolBoxoffice                0\n",
       "dtype: int64"
      ]
     },
     "execution_count": 6,
     "metadata": {},
     "output_type": "execute_result"
    }
   ],
   "source": [
    "data.isna()\n",
    "data.isna().sum()"
   ]
  },
  {
   "cell_type": "code",
   "execution_count": 7,
   "metadata": {},
   "outputs": [],
   "source": [
    "data['Genre'].fillna(data['Genre'].mode().iloc[0], inplace=True)\n",
    "data['Tags'].fillna(data['Tags'].mode().iloc[0], inplace=True)\n",
    "data['Languages'].fillna(data['Languages'].mode().iloc[0], inplace=True)\n",
    "data['Country Availability'].fillna(data['Country Availability'].mode().iloc[0], inplace=True)\n",
    "data['Runtime'].fillna(data['Runtime'].mode().iloc[0], inplace=True)\n",
    "data['Director'].fillna(data['Director'].mode().iloc[0], inplace=True)\n",
    "data['Writer'].fillna(data['Writer'].mode().iloc[0], inplace=True)\n",
    "data['Actors'].fillna(data['Actors'].mode().iloc[0], inplace=True)\n",
    "data['View Rating'].fillna(data['View Rating'].mode().iloc[0], inplace=True)\n",
    "data['Release Date'].fillna(data['Release Date'].mode().iloc[0], inplace=True)\n",
    "data['Production House'].fillna(data['Production House'].mode().iloc[0], inplace=True)\n"
   ]
  },
  {
   "cell_type": "code",
   "execution_count": 8,
   "metadata": {},
   "outputs": [
    {
     "data": {
      "text/plain": [
       "Title                        0\n",
       "Genre                        0\n",
       "Tags                         0\n",
       "Languages                    0\n",
       "Series or Movie              0\n",
       "Hidden Gem Score          2101\n",
       "Country Availability         0\n",
       "Runtime                      0\n",
       "Director                     0\n",
       "Writer                       0\n",
       "Actors                       0\n",
       "View Rating                  0\n",
       "IMDb Score                2099\n",
       "Rotten Tomatoes Score     9098\n",
       "Metacritic Score         11144\n",
       "Awards Received           9405\n",
       "Awards Nominated For      7819\n",
       "Boxoffice                11473\n",
       "Release Date                 0\n",
       "Netflix Release Date         0\n",
       "Production House             0\n",
       "IMDb Votes                2101\n",
       "boolBoxoffice                0\n",
       "dtype: int64"
      ]
     },
     "execution_count": 8,
     "metadata": {},
     "output_type": "execute_result"
    }
   ],
   "source": [
    "data.isna().sum()"
   ]
  },
  {
   "cell_type": "code",
   "execution_count": 9,
   "metadata": {},
   "outputs": [],
   "source": [
    "data.fillna(data.median(axis = 0), axis=0 , inplace=True)"
   ]
  },
  {
   "cell_type": "code",
   "execution_count": 10,
   "metadata": {},
   "outputs": [
    {
     "data": {
      "text/plain": [
       "Title                    0\n",
       "Genre                    0\n",
       "Tags                     0\n",
       "Languages                0\n",
       "Series or Movie          0\n",
       "Hidden Gem Score         0\n",
       "Country Availability     0\n",
       "Runtime                  0\n",
       "Director                 0\n",
       "Writer                   0\n",
       "Actors                   0\n",
       "View Rating              0\n",
       "IMDb Score               0\n",
       "Rotten Tomatoes Score    0\n",
       "Metacritic Score         0\n",
       "Awards Received          0\n",
       "Awards Nominated For     0\n",
       "Boxoffice                0\n",
       "Release Date             0\n",
       "Netflix Release Date     0\n",
       "Production House         0\n",
       "IMDb Votes               0\n",
       "boolBoxoffice            0\n",
       "dtype: int64"
      ]
     },
     "execution_count": 10,
     "metadata": {},
     "output_type": "execute_result"
    }
   ],
   "source": [
    "data.isna().sum()"
   ]
  },
  {
   "cell_type": "code",
   "execution_count": 11,
   "metadata": {},
   "outputs": [],
   "source": [
    "dataNew = data.loc[:, ['Series or Movie', 'Hidden Gem Score', 'Runtime', 'IMDb Score',\n",
    "                            'Rotten Tomatoes Score', 'Metacritic Score', 'Awards Received', 'Awards Nominated For',\n",
    "                           'Boxoffice',  'IMDb Votes', 'boolBoxoffice']].copy()"
   ]
  },
  {
   "cell_type": "code",
   "execution_count": 12,
   "metadata": {},
   "outputs": [],
   "source": [
    "# заменяем на числовой\n",
    "dataNew['Series or Movie'] = pd.factorize(dataNew['Series or Movie'])[0] "
   ]
  },
  {
   "cell_type": "code",
   "execution_count": 13,
   "metadata": {},
   "outputs": [],
   "source": [
    "# метод бинаризации \n",
    "runtime = pd.get_dummies(data['Runtime'])"
   ]
  },
  {
   "cell_type": "code",
   "execution_count": 14,
   "metadata": {},
   "outputs": [],
   "source": [
    "dataNew = pd.concat((dataNew, runtime), axis=1)\n",
    "dataNew = dataNew.drop(['Runtime'], axis=1)"
   ]
  },
  {
   "cell_type": "code",
   "execution_count": 15,
   "metadata": {
    "scrolled": true
   },
   "outputs": [
    {
     "data": {
      "text/html": [
       "<div>\n",
       "<style scoped>\n",
       "    .dataframe tbody tr th:only-of-type {\n",
       "        vertical-align: middle;\n",
       "    }\n",
       "\n",
       "    .dataframe tbody tr th {\n",
       "        vertical-align: top;\n",
       "    }\n",
       "\n",
       "    .dataframe thead th {\n",
       "        text-align: right;\n",
       "    }\n",
       "</style>\n",
       "<table border=\"1\" class=\"dataframe\">\n",
       "  <thead>\n",
       "    <tr style=\"text-align: right;\">\n",
       "      <th></th>\n",
       "      <th>Series or Movie</th>\n",
       "      <th>Hidden Gem Score</th>\n",
       "      <th>IMDb Score</th>\n",
       "      <th>Rotten Tomatoes Score</th>\n",
       "      <th>Metacritic Score</th>\n",
       "      <th>Awards Received</th>\n",
       "      <th>Awards Nominated For</th>\n",
       "      <th>Boxoffice</th>\n",
       "      <th>IMDb Votes</th>\n",
       "      <th>boolBoxoffice</th>\n",
       "      <th>1-2 hour</th>\n",
       "      <th>30-60 mins</th>\n",
       "      <th>&lt; 30 minutes</th>\n",
       "      <th>&gt; 2 hrs</th>\n",
       "    </tr>\n",
       "  </thead>\n",
       "  <tbody>\n",
       "    <tr>\n",
       "      <th>0</th>\n",
       "      <td>0</td>\n",
       "      <td>4.3</td>\n",
       "      <td>7.9</td>\n",
       "      <td>98.0</td>\n",
       "      <td>82.0</td>\n",
       "      <td>74.0</td>\n",
       "      <td>57.0</td>\n",
       "      <td>2122065.0</td>\n",
       "      <td>205926.0</td>\n",
       "      <td>0</td>\n",
       "      <td>0</td>\n",
       "      <td>0</td>\n",
       "      <td>1</td>\n",
       "      <td>0</td>\n",
       "    </tr>\n",
       "    <tr>\n",
       "      <th>1</th>\n",
       "      <td>1</td>\n",
       "      <td>7.0</td>\n",
       "      <td>5.8</td>\n",
       "      <td>79.0</td>\n",
       "      <td>69.0</td>\n",
       "      <td>1.0</td>\n",
       "      <td>5.0</td>\n",
       "      <td>70632.0</td>\n",
       "      <td>2838.0</td>\n",
       "      <td>0</td>\n",
       "      <td>1</td>\n",
       "      <td>0</td>\n",
       "      <td>0</td>\n",
       "      <td>0</td>\n",
       "    </tr>\n",
       "    <tr>\n",
       "      <th>2</th>\n",
       "      <td>1</td>\n",
       "      <td>6.4</td>\n",
       "      <td>4.3</td>\n",
       "      <td>64.0</td>\n",
       "      <td>46.0</td>\n",
       "      <td>3.0</td>\n",
       "      <td>5.0</td>\n",
       "      <td>16263.0</td>\n",
       "      <td>1720.0</td>\n",
       "      <td>0</td>\n",
       "      <td>1</td>\n",
       "      <td>0</td>\n",
       "      <td>0</td>\n",
       "      <td>0</td>\n",
       "    </tr>\n",
       "    <tr>\n",
       "      <th>3</th>\n",
       "      <td>0</td>\n",
       "      <td>7.7</td>\n",
       "      <td>6.5</td>\n",
       "      <td>64.0</td>\n",
       "      <td>57.0</td>\n",
       "      <td>1.0</td>\n",
       "      <td>5.0</td>\n",
       "      <td>19551067.0</td>\n",
       "      <td>1147.0</td>\n",
       "      <td>0</td>\n",
       "      <td>0</td>\n",
       "      <td>0</td>\n",
       "      <td>1</td>\n",
       "      <td>0</td>\n",
       "    </tr>\n",
       "    <tr>\n",
       "      <th>4</th>\n",
       "      <td>1</td>\n",
       "      <td>8.1</td>\n",
       "      <td>6.3</td>\n",
       "      <td>64.0</td>\n",
       "      <td>57.0</td>\n",
       "      <td>3.0</td>\n",
       "      <td>4.0</td>\n",
       "      <td>19551067.0</td>\n",
       "      <td>63.0</td>\n",
       "      <td>0</td>\n",
       "      <td>1</td>\n",
       "      <td>0</td>\n",
       "      <td>0</td>\n",
       "      <td>0</td>\n",
       "    </tr>\n",
       "  </tbody>\n",
       "</table>\n",
       "</div>"
      ],
      "text/plain": [
       "   Series or Movie  Hidden Gem Score  IMDb Score  Rotten Tomatoes Score  \\\n",
       "0                0               4.3         7.9                   98.0   \n",
       "1                1               7.0         5.8                   79.0   \n",
       "2                1               6.4         4.3                   64.0   \n",
       "3                0               7.7         6.5                   64.0   \n",
       "4                1               8.1         6.3                   64.0   \n",
       "\n",
       "   Metacritic Score  Awards Received  Awards Nominated For   Boxoffice  \\\n",
       "0              82.0             74.0                  57.0   2122065.0   \n",
       "1              69.0              1.0                   5.0     70632.0   \n",
       "2              46.0              3.0                   5.0     16263.0   \n",
       "3              57.0              1.0                   5.0  19551067.0   \n",
       "4              57.0              3.0                   4.0  19551067.0   \n",
       "\n",
       "   IMDb Votes  boolBoxoffice  1-2 hour  30-60 mins  < 30 minutes  > 2 hrs  \n",
       "0    205926.0              0         0           0             1        0  \n",
       "1      2838.0              0         1           0             0        0  \n",
       "2      1720.0              0         1           0             0        0  \n",
       "3      1147.0              0         0           0             1        0  \n",
       "4        63.0              0         1           0             0        0  "
      ]
     },
     "execution_count": 15,
     "metadata": {},
     "output_type": "execute_result"
    }
   ],
   "source": [
    "dataNew.head()"
   ]
  },
  {
   "cell_type": "code",
   "execution_count": 16,
   "metadata": {},
   "outputs": [],
   "source": [
    "# нормализация\n",
    "\n",
    "dataS = (dataNew - dataNew.mean(axis = 0))/dataNew.std(axis = 0)"
   ]
  },
  {
   "cell_type": "markdown",
   "metadata": {},
   "source": [
    "# 2. Разбиваем данные на обучающую и тестовую выборки"
   ]
  },
  {
   "cell_type": "code",
   "execution_count": 17,
   "metadata": {},
   "outputs": [
    {
     "data": {
      "text/plain": [
       "Index(['Series or Movie', 'Hidden Gem Score', 'IMDb Score',\n",
       "       'Rotten Tomatoes Score', 'Metacritic Score', 'Awards Received',\n",
       "       'Awards Nominated For', 'Boxoffice', 'IMDb Votes', 'boolBoxoffice',\n",
       "       '1-2 hour', '30-60 mins', '< 30 minutes', '> 2 hrs'],\n",
       "      dtype='object')"
      ]
     },
     "execution_count": 17,
     "metadata": {},
     "output_type": "execute_result"
    }
   ],
   "source": [
    "dataS.columns"
   ]
  },
  {
   "cell_type": "code",
   "execution_count": 18,
   "metadata": {},
   "outputs": [],
   "source": [
    "X = dataS.drop(['IMDb Score',  'Boxoffice', 'boolBoxoffice'], axis=1)\n",
    "y = data['boolBoxoffice']"
   ]
  },
  {
   "cell_type": "code",
   "execution_count": 19,
   "metadata": {},
   "outputs": [
    {
     "data": {
      "text/html": [
       "<div>\n",
       "<style scoped>\n",
       "    .dataframe tbody tr th:only-of-type {\n",
       "        vertical-align: middle;\n",
       "    }\n",
       "\n",
       "    .dataframe tbody tr th {\n",
       "        vertical-align: top;\n",
       "    }\n",
       "\n",
       "    .dataframe thead th {\n",
       "        text-align: right;\n",
       "    }\n",
       "</style>\n",
       "<table border=\"1\" class=\"dataframe\">\n",
       "  <thead>\n",
       "    <tr style=\"text-align: right;\">\n",
       "      <th></th>\n",
       "      <th>Series or Movie</th>\n",
       "      <th>Hidden Gem Score</th>\n",
       "      <th>Rotten Tomatoes Score</th>\n",
       "      <th>Metacritic Score</th>\n",
       "      <th>Awards Received</th>\n",
       "      <th>Awards Nominated For</th>\n",
       "      <th>IMDb Votes</th>\n",
       "      <th>1-2 hour</th>\n",
       "      <th>30-60 mins</th>\n",
       "      <th>&lt; 30 minutes</th>\n",
       "      <th>&gt; 2 hrs</th>\n",
       "    </tr>\n",
       "  </thead>\n",
       "  <tbody>\n",
       "    <tr>\n",
       "      <th>0</th>\n",
       "      <td>-1.758349</td>\n",
       "      <td>-0.830514</td>\n",
       "      <td>2.051316</td>\n",
       "      <td>2.692300</td>\n",
       "      <td>5.819900</td>\n",
       "      <td>2.216618</td>\n",
       "      <td>1.433442</td>\n",
       "      <td>-1.197763</td>\n",
       "      <td>-0.148494</td>\n",
       "      <td>1.695196</td>\n",
       "      <td>-0.388263</td>\n",
       "    </tr>\n",
       "    <tr>\n",
       "      <th>1</th>\n",
       "      <td>0.568679</td>\n",
       "      <td>0.447487</td>\n",
       "      <td>0.964018</td>\n",
       "      <td>1.295221</td>\n",
       "      <td>-0.360873</td>\n",
       "      <td>-0.207226</td>\n",
       "      <td>-0.292382</td>\n",
       "      <td>0.834836</td>\n",
       "      <td>-0.148494</td>\n",
       "      <td>-0.589864</td>\n",
       "      <td>-0.388263</td>\n",
       "    </tr>\n",
       "    <tr>\n",
       "      <th>2</th>\n",
       "      <td>0.568679</td>\n",
       "      <td>0.163487</td>\n",
       "      <td>0.105625</td>\n",
       "      <td>-1.176534</td>\n",
       "      <td>-0.191537</td>\n",
       "      <td>-0.207226</td>\n",
       "      <td>-0.301882</td>\n",
       "      <td>0.834836</td>\n",
       "      <td>-0.148494</td>\n",
       "      <td>-0.589864</td>\n",
       "      <td>-0.388263</td>\n",
       "    </tr>\n",
       "    <tr>\n",
       "      <th>3</th>\n",
       "      <td>-1.758349</td>\n",
       "      <td>0.778820</td>\n",
       "      <td>0.105625</td>\n",
       "      <td>0.005609</td>\n",
       "      <td>-0.360873</td>\n",
       "      <td>-0.207226</td>\n",
       "      <td>-0.306752</td>\n",
       "      <td>-1.197763</td>\n",
       "      <td>-0.148494</td>\n",
       "      <td>1.695196</td>\n",
       "      <td>-0.388263</td>\n",
       "    </tr>\n",
       "    <tr>\n",
       "      <th>4</th>\n",
       "      <td>0.568679</td>\n",
       "      <td>0.968153</td>\n",
       "      <td>0.105625</td>\n",
       "      <td>0.005609</td>\n",
       "      <td>-0.191537</td>\n",
       "      <td>-0.253839</td>\n",
       "      <td>-0.315963</td>\n",
       "      <td>0.834836</td>\n",
       "      <td>-0.148494</td>\n",
       "      <td>-0.589864</td>\n",
       "      <td>-0.388263</td>\n",
       "    </tr>\n",
       "  </tbody>\n",
       "</table>\n",
       "</div>"
      ],
      "text/plain": [
       "   Series or Movie  Hidden Gem Score  Rotten Tomatoes Score  Metacritic Score  \\\n",
       "0        -1.758349         -0.830514               2.051316          2.692300   \n",
       "1         0.568679          0.447487               0.964018          1.295221   \n",
       "2         0.568679          0.163487               0.105625         -1.176534   \n",
       "3        -1.758349          0.778820               0.105625          0.005609   \n",
       "4         0.568679          0.968153               0.105625          0.005609   \n",
       "\n",
       "   Awards Received  Awards Nominated For  IMDb Votes  1-2 hour  30-60 mins  \\\n",
       "0         5.819900              2.216618    1.433442 -1.197763   -0.148494   \n",
       "1        -0.360873             -0.207226   -0.292382  0.834836   -0.148494   \n",
       "2        -0.191537             -0.207226   -0.301882  0.834836   -0.148494   \n",
       "3        -0.360873             -0.207226   -0.306752 -1.197763   -0.148494   \n",
       "4        -0.191537             -0.253839   -0.315963  0.834836   -0.148494   \n",
       "\n",
       "   < 30 minutes   > 2 hrs  \n",
       "0      1.695196 -0.388263  \n",
       "1     -0.589864 -0.388263  \n",
       "2     -0.589864 -0.388263  \n",
       "3      1.695196 -0.388263  \n",
       "4     -0.589864 -0.388263  "
      ]
     },
     "execution_count": 19,
     "metadata": {},
     "output_type": "execute_result"
    }
   ],
   "source": [
    "X.head()"
   ]
  },
  {
   "cell_type": "code",
   "execution_count": 20,
   "metadata": {},
   "outputs": [
    {
     "data": {
      "text/plain": [
       "(10371, 5109)"
      ]
     },
     "execution_count": 20,
     "metadata": {},
     "output_type": "execute_result"
    }
   ],
   "source": [
    "from sklearn.model_selection import train_test_split\n",
    "X_train, X_test, y_train, y_test = train_test_split(X, y, test_size = 0.33, random_state = 42)\n",
    "\n",
    "N_train, _ = X_train.shape \n",
    "N_test,  _ = X_test.shape\n",
    "\n",
    "N_train, N_test"
   ]
  },
  {
   "cell_type": "markdown",
   "metadata": {},
   "source": [
    "Подбор гиперпараметров"
   ]
  },
  {
   "cell_type": "code",
   "execution_count": 21,
   "metadata": {},
   "outputs": [],
   "source": [
    "from sklearn.neural_network import MLPClassifier\n",
    "from sklearn.metrics import accuracy_score\n",
    "from tqdm import tqdm"
   ]
  },
  {
   "cell_type": "markdown",
   "metadata": {},
   "source": [
    "Подбор нейронов в однослойной сети. "
   ]
  },
  {
   "cell_type": "code",
   "execution_count": 22,
   "metadata": {},
   "outputs": [
    {
     "name": "stderr",
     "output_type": "stream",
     "text": [
      "100%|██████████████████████████████████████████████████████████████████████████████████| 50/50 [02:51<00:00,  3.44s/it]\n"
     ]
    }
   ],
   "source": [
    "hidden_layer_size = np.linspace(1, 50, 50)\n",
    "hidden_layer_size = hidden_layer_size.astype(int)\n",
    "test_err, train_err = [], []\n",
    "train_acc, test_acc = [], []\n",
    "\n",
    "for size in tqdm(hidden_layer_size):\n",
    "    model = MLPClassifier(hidden_layer_sizes=(size,), \n",
    "                          solver='adam', activation='relu', max_iter=1000, random_state=42)\n",
    "    model.fit(X_train, y_train)\n",
    "\n",
    "    y_train_pred = model.predict(X_train)\n",
    "    y_test_pred = model.predict(X_test)\n",
    "    \n",
    "    train_err.append(np.mean(y_train != y_train_pred))\n",
    "    test_err.append(np.mean(y_test != y_test_pred))\n",
    "    \n",
    "    train_acc.append(accuracy_score(y_train, y_train_pred))\n",
    "    test_acc.append(accuracy_score(y_test, y_test_pred))"
   ]
  },
  {
   "cell_type": "code",
   "execution_count": 23,
   "metadata": {},
   "outputs": [
    {
     "data": {
      "text/plain": [
       "<matplotlib.legend.Legend at 0x16ec3342850>"
      ]
     },
     "execution_count": 23,
     "metadata": {},
     "output_type": "execute_result"
    },
    {
     "data": {
      "image/png": "[encoded data removed]",
      "text/plain": [
       "<Figure size 432x288 with 1 Axes>"
      ]
     },
     "metadata": {
      "needs_background": "light"
     },
     "output_type": "display_data"
    }
   ],
   "source": [
    "plt.plot(hidden_layer_size, train_err, 'b-o', label = 'train')\n",
    "plt.plot(hidden_layer_size, test_err, 'r-o', label = 'test')\n",
    "plt.xlim([np.min(hidden_layer_size), np.max(hidden_layer_size)])\n",
    "plt.title('Error is as a function of hidden_layer_size')\n",
    "plt.xlabel('hidden_layer_size')\n",
    "plt.ylabel('error')\n",
    "plt.legend()"
   ]
  },
  {
   "cell_type": "code",
   "execution_count": 24,
   "metadata": {},
   "outputs": [
    {
     "name": "stdout",
     "output_type": "stream",
     "text": [
      "Train: Min error=0.038665509594060364, number of neurons=44\n",
      "Test: Min error=0.046192992757878255, number of neurons=30\n"
     ]
    }
   ],
   "source": [
    "\n",
    "print(\"Train: Min error={0}, number of neurons={1}\".format(np.min(train_err), hidden_layer_size[np.argmin(train_err)]))\n",
    "print(\"Test: Min error={0}, number of neurons={1}\".format(np.min(test_err), hidden_layer_size[np.argmin(test_err)]))"
   ]
  },
  {
   "cell_type": "code",
   "execution_count": 25,
   "metadata": {},
   "outputs": [
    {
     "data": {
      "text/plain": [
       "<matplotlib.legend.Legend at 0x16ec3a24190>"
      ]
     },
     "execution_count": 25,
     "metadata": {},
     "output_type": "execute_result"
    },
    {
     "data": {
      "image/png": "[encoded data removed]",
      "text/plain": [
       "<Figure size 432x288 with 1 Axes>"
      ]
     },
     "metadata": {
      "needs_background": "light"
     },
     "output_type": "display_data"
    }
   ],
   "source": [
    "plt.plot(hidden_layer_size, train_acc, 'r-o', label = 'train')\n",
    "plt.plot(hidden_layer_size, test_acc, 'b-o', label = 'test')\n",
    "plt.xlim([np.min(hidden_layer_size), np.max(hidden_layer_size)])\n",
    "plt.title('Accuracy is a function of hidden_layer_size')\n",
    "plt.xlabel('hidden_layer_size')\n",
    "plt.ylabel('Accuracy')\n",
    "plt.legend()"
   ]
  },
  {
   "cell_type": "code",
   "execution_count": 26,
   "metadata": {},
   "outputs": [
    {
     "name": "stdout",
     "output_type": "stream",
     "text": [
      "Train: max accuracy=0.9613344904059397, number of neurons=44\n",
      "Test: max accuracy=0.9538070072421218, number of neurons=30\n"
     ]
    }
   ],
   "source": [
    "print(\"Train: max accuracy={0}, number of neurons={1}\".format(np.max(train_acc), hidden_layer_size[np.argmax(train_acc)]))\n",
    "print(\"Test: max accuracy={0}, number of neurons={1}\".format(np.max(test_acc), hidden_layer_size[np.argmax(test_acc)]))"
   ]
  },
  {
   "cell_type": "markdown",
   "metadata": {},
   "source": [
    "Подборка количества нейронов для двуслойной сети"
   ]
  },
  {
   "cell_type": "code",
   "execution_count": 27,
   "metadata": {},
   "outputs": [
    {
     "name": "stderr",
     "output_type": "stream",
     "text": [
      "10it [09:04, 54.49s/it]\n"
     ]
    }
   ],
   "source": [
    "n = 10\n",
    "sizes = np.linspace(1, 50, n).astype(int)\n",
    "test_err = np.zeros((n, n))\n",
    "train_err = np.zeros((n, n))\n",
    "train_acc = np.zeros((n, n))\n",
    "test_acc = np.zeros((n, n))\n",
    "\n",
    "for i, size_1 in tqdm(enumerate(sizes)):\n",
    "    for j, size_2 in enumerate(sizes):\n",
    "        model = MLPClassifier(hidden_layer_sizes=(size_1, size_2, ), \n",
    "                              solver='adam', activation='relu', max_iter=1000, random_state=42)\n",
    "        model.fit(X_train, y_train)\n",
    "\n",
    "        y_train_pred = model.predict(X_train)\n",
    "        y_test_pred = model.predict(X_test)\n",
    "\n",
    "        train_err[i][j] = np.mean(y_train != y_train_pred)\n",
    "        test_err[i][j] = np.mean(y_test != y_test_pred)\n",
    "\n",
    "        train_acc[i][j] = accuracy_score(y_train, y_train_pred)\n",
    "        test_acc[i][j] = accuracy_score(y_test, y_test_pred)"
   ]
  },
  {
   "cell_type": "code",
   "execution_count": 28,
   "metadata": {},
   "outputs": [
    {
     "data": {
      "image/png": "[encoded data removed]",
      "text/plain": [
       "<Figure size 432x288 with 3 Axes>"
      ]
     },
     "metadata": {
      "needs_background": "light"
     },
     "output_type": "display_data"
    }
   ],
   "source": [
    "plt.subplot(121)\n",
    "plt.title(\"Train error\")\n",
    "plt.imshow(train_err)\n",
    "plt.xticks(np.arange(n), np.arange(1, 50, 50 / n))\n",
    "plt.yticks(np.arange(n), np.arange(1, 50, 50 / n))\n",
    "\n",
    "plt.subplot(122)\n",
    "plt.title(\"Test error\")\n",
    "plt.imshow(test_err)\n",
    "plt.xticks(np.arange(n), np.arange(1, 50, 50 / n))\n",
    "plt.yticks(np.arange(n), np.arange(1, 50, 50 / n))\n",
    "\n",
    "cax = plt.axes([0.96, 0.15, 0.02, 0.7])\n",
    "plt.colorbar(cax=cax)\n",
    "\n",
    "train_min_loss = np.where(train_err == np.min(train_err))\n",
    "test_min_loss = np.where(test_err == np.min(test_err))\n",
    "\n",
    "train_min_loss_sizes = [train_min_loss[0][0] * 5, train_min_loss[1][0] * 5]\n",
    "test_min_loss_sizes = [test_min_loss[0][0] * 5, test_min_loss[1][0] * 5]"
   ]
  },
  {
   "cell_type": "code",
   "execution_count": 29,
   "metadata": {},
   "outputs": [
    {
     "name": "stdout",
     "output_type": "stream",
     "text": [
      "Train: Min error=0.03316941471410664, number of neurons=40,45\n",
      "Test: error=0.04952045410060677, number of neurons=40,45\n",
      "\n",
      "Test: Min error=0.045018594636915245, number of neurons=45,30\n",
      "Train: error=0.037894127856523, number of neurons=45,30\n",
      "\n"
     ]
    }
   ],
   "source": [
    "print(\"Train: Min error={0}, number of neurons={1},{2}\".format(np.min(train_err), train_min_loss_sizes[0], train_min_loss_sizes[1]))\n",
    "print(\"Test: error={0}, number of neurons={1},{2}\\n\".format(test_err[train_min_loss][0], train_min_loss_sizes[0], train_min_loss_sizes[1]))\n",
    "print(\"Test: Min error={0}, number of neurons={1},{2}\".format(np.min(test_err), test_min_loss_sizes[0], test_min_loss_sizes[1]))\n",
    "print(\"Train: error={0}, number of neurons={1},{2}\\n\".format(train_err[test_min_loss][0], test_min_loss_sizes[0], test_min_loss_sizes[1]))"
   ]
  },
  {
   "cell_type": "code",
   "execution_count": 30,
   "metadata": {},
   "outputs": [
    {
     "data": {
      "image/png": "[encoded data removed]",
      "text/plain": [
       "<Figure size 432x288 with 3 Axes>"
      ]
     },
     "metadata": {
      "needs_background": "light"
     },
     "output_type": "display_data"
    }
   ],
   "source": [
    "plt.subplot(121)\n",
    "plt.title(\"Train accuracy\")\n",
    "plt.imshow(train_acc)\n",
    "plt.xticks(np.arange(n), np.arange(1, 50, 50 / n))\n",
    "plt.yticks(np.arange(n), np.arange(1, 50, 50 / n))\n",
    "\n",
    "plt.subplot(122)\n",
    "plt.title(\"Test accuracy\")\n",
    "plt.imshow(test_acc)\n",
    "plt.xticks(np.arange(n), np.arange(1, 50, 50 / n))\n",
    "plt.yticks(np.arange(n), np.arange(1, 50, 50 / n))\n",
    "\n",
    "cax = plt.axes([0.95, 0.15, 0.02, 0.7])\n",
    "plt.colorbar(cax=cax)\n",
    "\n",
    "train_max_acc = np.where(train_acc == np.max(train_acc))\n",
    "test_max_acc = np.where(test_acc == np.max(test_acc))\n",
    "\n",
    "train_max_acc_sizes = [train_max_acc[0][0] * 5, train_max_acc[1][0] * 5]\n",
    "test_max_acc_sizes = [test_max_acc[0][0] * 5, test_max_acc[1][0] * 5]"
   ]
  },
  {
   "cell_type": "code",
   "execution_count": 31,
   "metadata": {},
   "outputs": [
    {
     "name": "stdout",
     "output_type": "stream",
     "text": [
      "Train: Max accuracy=0.9668305852858934, number of neurons=40,45\n",
      "Test: accuracy=0.9504795458993932, number of neurons=40,45\n",
      "\n",
      "Test: Max accuracy=0.9549814053630847, number of neurons=45,30\n",
      "Train: accuracy=0.962105872143477, number of neurons=45,30\n",
      "\n"
     ]
    }
   ],
   "source": [
    "print(\"Train: Max accuracy={0}, number of neurons={1},{2}\".format(np.max(train_acc), train_max_acc_sizes[0], train_max_acc_sizes[1]))\n",
    "print(\"Test: accuracy={0}, number of neurons={1},{2}\\n\".format(test_acc[train_max_acc][0], train_max_acc_sizes[0], train_max_acc_sizes[1]))\n",
    "print(\"Test: Max accuracy={0}, number of neurons={1},{2}\".format(np.max(test_acc), test_max_acc_sizes[0], test_max_acc_sizes[1]))\n",
    "print(\"Train: accuracy={0}, number of neurons={1},{2}\\n\".format(train_acc[test_max_acc][0], test_max_acc_sizes[0], test_max_acc_sizes[1]))"
   ]
  },
  {
   "cell_type": "markdown",
   "metadata": {},
   "source": [
    "Лучшие показатели подемонстрировала сеть из 2-ух слоев (точность на тестовой и обучающей выборке у неё выше). Самая оптимальная точность достигается при количесте нейронов (40,45). Будем подбирать параметры alpha для сети из 2-ух слоёв."
   ]
  },
  {
   "cell_type": "code",
   "execution_count": 32,
   "metadata": {},
   "outputs": [
    {
     "name": "stderr",
     "output_type": "stream",
     "text": [
      "100%|██████████████████████████████████████████████████████████████████████████████████| 50/50 [04:15<00:00,  5.12s/it]\n"
     ]
    }
   ],
   "source": [
    "alpha_arr = np.logspace(-3, 2, 50)\n",
    "test_err = []\n",
    "train_err = []\n",
    "train_acc = []\n",
    "test_acc = []\n",
    "\n",
    "for alpha in tqdm(alpha_arr):\n",
    "    mlp_model = MLPClassifier(alpha=alpha, hidden_layer_sizes=(30,40),\n",
    "                              solver='adam', activation='relu', max_iter=1000, random_state=42)\n",
    "    mlp_model.fit(X_train, y_train)\n",
    "\n",
    "    y_train_pred = mlp_model.predict(X_train)\n",
    "    y_test_pred = mlp_model.predict(X_test)\n",
    "\n",
    "    train_err.append(np.mean(y_train != y_train_pred))\n",
    "    test_err.append(np.mean(y_test != y_test_pred))\n",
    "    train_acc.append(accuracy_score(y_train, y_train_pred))\n",
    "    test_acc.append(accuracy_score(y_test, y_test_pred))"
   ]
  },
  {
   "cell_type": "code",
   "execution_count": 33,
   "metadata": {},
   "outputs": [
    {
     "data": {
      "text/plain": [
       "<matplotlib.legend.Legend at 0x16ec48dff70>"
      ]
     },
     "execution_count": 33,
     "metadata": {},
     "output_type": "execute_result"
    },
    {
     "data": {
      "image/png": "[encoded data removed]",
      "text/plain": [
       "<Figure size 432x288 with 1 Axes>"
      ]
     },
     "metadata": {
      "needs_background": "light"
     },
     "output_type": "display_data"
    }
   ],
   "source": [
    "plt.semilogx(alpha_arr, train_err, 'b-o', label = 'train')\n",
    "plt.semilogx(alpha_arr, test_err, 'r-o', label = 'test')\n",
    "plt.xlim([np.min(alpha_arr), np.max(alpha_arr)])\n",
    "plt.title('Error vs. alpha')\n",
    "plt.xlabel('alpha')\n",
    "plt.ylabel('error')\n",
    "plt.legend()"
   ]
  },
  {
   "cell_type": "code",
   "execution_count": 34,
   "metadata": {},
   "outputs": [
    {
     "data": {
      "text/plain": [
       "<matplotlib.legend.Legend at 0x16ec4574970>"
      ]
     },
     "execution_count": 34,
     "metadata": {},
     "output_type": "execute_result"
    },
    {
     "data": {
      "image/png": "[encoded data removed]",
      "text/plain": [
       "<Figure size 432x288 with 1 Axes>"
      ]
     },
     "metadata": {
      "needs_background": "light"
     },
     "output_type": "display_data"
    }
   ],
   "source": [
    "plt.semilogx(alpha_arr, train_acc, 'b-o', label = 'train')\n",
    "plt.semilogx(alpha_arr, test_acc, 'r-o', label = 'test')\n",
    "plt.xlim([np.min(alpha_arr), np.max(alpha_arr)])\n",
    "plt.title('Accuracy vs. alpha')\n",
    "plt.xlabel('alpha')\n",
    "plt.ylabel('Accuracy')\n",
    "plt.legend()"
   ]
  },
  {
   "cell_type": "code",
   "execution_count": 35,
   "metadata": {},
   "outputs": [
    {
     "name": "stderr",
     "output_type": "stream",
     "text": [
      "100%|██████████████████████████████████████████████████████████████████████████████████| 50/50 [01:32<00:00,  1.84s/it]\n"
     ]
    }
   ],
   "source": [
    "alpha_arr2 = np.logspace(-3, 2, 50)\n",
    "test_err2 = []\n",
    "train_err2 = []\n",
    "train_acc2 = []\n",
    "test_acc2 = []\n",
    "\n",
    "for alpha in tqdm(alpha_arr2):\n",
    "    mlp_model = MLPClassifier(alpha=alpha, hidden_layer_sizes=(10,),\n",
    "                              solver='adam', activation='relu', max_iter=1000, random_state=42)\n",
    "    mlp_model.fit(X_train, y_train)\n",
    "\n",
    "    y_train_pred = mlp_model.predict(X_train)\n",
    "    y_test_pred = mlp_model.predict(X_test)\n",
    "\n",
    "    train_err2.append(np.mean(y_train != y_train_pred))\n",
    "    test_err2.append(np.mean(y_test != y_test_pred))\n",
    "    train_acc2.append(accuracy_score(y_train, y_train_pred))\n",
    "    test_acc2.append(accuracy_score(y_test, y_test_pred))"
   ]
  },
  {
   "cell_type": "code",
   "execution_count": 36,
   "metadata": {},
   "outputs": [
    {
     "data": {
      "text/plain": [
       "<matplotlib.legend.Legend at 0x16ec4ab3dc0>"
      ]
     },
     "execution_count": 36,
     "metadata": {},
     "output_type": "execute_result"
    },
    {
     "data": {
      "image/png": "[encoded data removed]",
      "text/plain": [
       "<Figure size 432x288 with 1 Axes>"
      ]
     },
     "metadata": {
      "needs_background": "light"
     },
     "output_type": "display_data"
    }
   ],
   "source": [
    "plt.semilogx(alpha_arr2, train_err2, 'b-o', label = 'train')\n",
    "plt.semilogx(alpha_arr2, test_err2, 'r-o', label = 'test')\n",
    "plt.xlim([np.min(alpha_arr2), np.max(alpha_arr2)])\n",
    "plt.title('Error vs. alpha')\n",
    "plt.xlabel('alpha')\n",
    "plt.ylabel('error')\n",
    "plt.legend()"
   ]
  },
  {
   "cell_type": "code",
   "execution_count": 37,
   "metadata": {},
   "outputs": [
    {
     "data": {
      "text/plain": [
       "<matplotlib.legend.Legend at 0x16ec4bed1f0>"
      ]
     },
     "execution_count": 37,
     "metadata": {},
     "output_type": "execute_result"
    },
    {
     "data": {
      "image/png": "[encoded data removed]",
      "text/plain": [
       "<Figure size 432x288 with 1 Axes>"
      ]
     },
     "metadata": {
      "needs_background": "light"
     },
     "output_type": "display_data"
    }
   ],
   "source": [
    "plt.semilogx(alpha_arr2, train_acc2, 'b-o', label = 'train')\n",
    "plt.semilogx(alpha_arr2, test_acc2, 'r-o', label = 'test')\n",
    "plt.xlim([np.min(alpha_arr2), np.max(alpha_arr2)])\n",
    "plt.title('Accuracy vs. alpha')\n",
    "plt.xlabel('alpha')\n",
    "plt.ylabel('Accuracy')\n",
    "plt.legend()"
   ]
  },
  {
   "cell_type": "code",
   "execution_count": 41,
   "metadata": {},
   "outputs": [
    {
     "name": "stdout",
     "output_type": "stream",
     "text": [
      "Alpha o: 4\n"
     ]
    }
   ],
   "source": [
    "alpha_opt = 4\n",
    "print(\"Alpha o:\", alpha_opt)"
   ]
  },
  {
   "cell_type": "markdown",
   "metadata": {},
   "source": [
    "Классификатор при найденном alpha."
   ]
  },
  {
   "cell_type": "code",
   "execution_count": 42,
   "metadata": {},
   "outputs": [],
   "source": [
    "mlp_model = MLPClassifier(alpha=alpha_opt, hidden_layer_sizes=(20,),\n",
    "                          solver='adam', activation='relu', random_state=42)\n",
    "mlp_model.fit(X_train, y_train)\n",
    "\n",
    "y_train_pred = mlp_model.predict(X_train)\n",
    "y_test_pred = mlp_model.predict(X_test)"
   ]
  },
  {
   "cell_type": "markdown",
   "metadata": {},
   "source": [
    "Матрица рассогласования."
   ]
  },
  {
   "cell_type": "code",
   "execution_count": 45,
   "metadata": {},
   "outputs": [
    {
     "name": "stdout",
     "output_type": "stream",
     "text": [
      "[[4626  234]\n",
      " [  61  188]]\n"
     ]
    }
   ],
   "source": [
    "from sklearn.metrics import confusion_matrix\n",
    "print(confusion_matrix(y_test_pred, y_test))"
   ]
  },
  {
   "cell_type": "code",
   "execution_count": 48,
   "metadata": {},
   "outputs": [
    {
     "data": {
      "image/png": "[encoded data removed]",
      "text/plain": [
       "<Figure size 432x288 with 2 Axes>"
      ]
     },
     "metadata": {
      "needs_background": "light"
     },
     "output_type": "display_data"
    }
   ],
   "source": [
    "from sklearn.metrics import plot_confusion_matrix\n",
    "plot_confusion_matrix(mlp_model, X_test, y_test) \n",
    "plt.show()"
   ]
  },
  {
   "cell_type": "markdown",
   "metadata": {},
   "source": [
    "# Выводы"
   ]
  },
  {
   "cell_type": "markdown",
   "metadata": {},
   "source": [
    "1. Подбор числа нейронов в однослойной моделе\n",
    "1) Почти одинаковое распределение тренировочных и тестовых данных.\n",
    "2) Наблюдается переобучение. \n",
    "3) При количестве нейровнов в слое больше 2 уже достигается точность выше 93%. Это говорит о том, что все входные объекты могут быть спроецированы в двумерное пространство и разделены на классы с высокой точностью 93%.\n",
    "\n",
    "2. Подбор числа нейронов в двуслойной моделе\n",
    "1) Наблюдается недообучение тренировочной выборки на 1%.\\\n",
    "\n",
    "3. Подбор параметра регуляризации\n",
    "С ростом коэффициента регуляризации растёт ошибка и снижается точность. Это говорит о том, что после обучения у модели не возникает больших значений весовых коэффициентов, а значит нет переобучения. При alpha > 10e-1 начинается рост ошибки и снижение точности, то есть с ростом alpha веса модели уменьшаются и стремятся к нулю. "
   ]
  }
 ],
 "metadata": {
  "kernelspec": {
   "display_name": "Python 3",
   "language": "python",
   "name": "python3"
  },
  "language_info": {
   "codemirror_mode": {
    "name": "ipython",
    "version": 3
   },
   "file_extension": ".py",
   "mimetype": "text/x-python",
   "name": "python",
   "nbconvert_exporter": "python",
   "pygments_lexer": "ipython3",
   "version": "3.8.3"
  }
 },
 "nbformat": 4,
 "nbformat_minor": 4
}
